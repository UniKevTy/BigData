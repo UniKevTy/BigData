{
  "nbformat": 4,
  "nbformat_minor": 0,
  "metadata": {
    "colab": {
      "provenance": []
    },
    "language_info": {
      "codemirror_mode": {
        "name": "ipython",
        "version": 3
      },
      "file_extension": ".py",
      "mimetype": "text/x-python",
      "name": "python",
      "nbconvert_exporter": "python",
      "pygments_lexer": "ipython3",
      "version": "3.6.5"
    },
    "kernelspec": {
      "display_name": "Python 3",
      "language": "python",
      "name": "python3"
    }
  },
  "cells": [
    {
      "cell_type": "markdown",
      "source": [
        "# Install pyspark"
      ],
      "metadata": {
        "id": "H70WNPTuwpKt"
      }
    },
    {
      "cell_type": "code",
      "source": [
        "!pip install pyspark"
      ],
      "metadata": {
        "colab": {
          "base_uri": "https://localhost:8080/"
        },
        "id": "fqj6Y-2wwa2G",
        "outputId": "80786b18-ccea-4370-a1d3-1cda8179d269"
      },
      "execution_count": null,
      "outputs": [
        {
          "output_type": "stream",
          "name": "stdout",
          "text": [
            "Looking in indexes: https://pypi.org/simple, https://us-python.pkg.dev/colab-wheels/public/simple/\n",
            "Collecting pyspark\n",
            "  Downloading pyspark-3.3.2.tar.gz (281.4 MB)\n",
            "\u001b[2K     \u001b[90m━━━━━━━━━━━━━━━━━━━━━━━━━━━━━━━━━━━━━━━\u001b[0m \u001b[32m281.4/281.4 MB\u001b[0m \u001b[31m5.4 MB/s\u001b[0m eta \u001b[36m0:00:00\u001b[0m\n",
            "\u001b[?25h  Preparing metadata (setup.py) ... \u001b[?25l\u001b[?25hdone\n",
            "Collecting py4j==0.10.9.5\n",
            "  Downloading py4j-0.10.9.5-py2.py3-none-any.whl (199 kB)\n",
            "\u001b[2K     \u001b[90m━━━━━━━━━━━━━━━━━━━━━━━━━━━━━━━━━━━━━━\u001b[0m \u001b[32m199.7/199.7 KB\u001b[0m \u001b[31m21.5 MB/s\u001b[0m eta \u001b[36m0:00:00\u001b[0m\n",
            "\u001b[?25hBuilding wheels for collected packages: pyspark\n",
            "  Building wheel for pyspark (setup.py) ... \u001b[?25l\u001b[?25hdone\n",
            "  Created wheel for pyspark: filename=pyspark-3.3.2-py2.py3-none-any.whl size=281824028 sha256=b9e1d1d3733adbd5b04363f6d11abdc141a0e34978db3bbf167a2024c8bec1b5\n",
            "  Stored in directory: /root/.cache/pip/wheels/6c/e3/9b/0525ce8a69478916513509d43693511463c6468db0de237c86\n",
            "Successfully built pyspark\n",
            "Installing collected packages: py4j, pyspark\n",
            "  Attempting uninstall: py4j\n",
            "    Found existing installation: py4j 0.10.9.7\n",
            "    Uninstalling py4j-0.10.9.7:\n",
            "      Successfully uninstalled py4j-0.10.9.7\n",
            "Successfully installed py4j-0.10.9.5 pyspark-3.3.2\n"
          ]
        }
      ]
    },
    {
      "cell_type": "code",
      "source": [
        "from pyspark.sql import SparkSession\n",
        "spark = SparkSession.builder.master(\"local[*]\").getOrCreate()\n",
        "sc = spark.sparkContext"
      ],
      "metadata": {
        "id": "SJC9Pazbwa9a"
      },
      "execution_count": null,
      "outputs": []
    },
    {
      "cell_type": "code",
      "source": [
        "# Montage drive (optionnel)\n",
        "from google.colab import drive\n",
        "drive.mount('/My_drive/')"
      ],
      "metadata": {
        "colab": {
          "base_uri": "https://localhost:8080/"
        },
        "id": "geKQHrGlwgOw",
        "outputId": "e5ce91a6-9ba7-4f83-c538-f2f877c7d0c7"
      },
      "execution_count": null,
      "outputs": [
        {
          "output_type": "stream",
          "name": "stdout",
          "text": [
            "Mounted at /My_drive/\n"
          ]
        }
      ]
    },
    {
      "cell_type": "markdown",
      "source": [
        "# TP numero 1"
      ],
      "metadata": {
        "id": "xgZVFd0iwznJ"
      }
    },
    {
      "cell_type": "code",
      "metadata": {
        "id": "oLjBi40P2QwD",
        "colab": {
          "base_uri": "https://localhost:8080/",
          "height": 196
        },
        "outputId": "38d16f33-b85b-48a3-8455-2cb6a9ecc3d3"
      },
      "source": [
        "import pyspark.sql.functions as F\n",
        "import pyspark.sql.types as T\n",
        "sc"
      ],
      "execution_count": null,
      "outputs": [
        {
          "output_type": "execute_result",
          "data": {
            "text/plain": [
              "<SparkContext master=local[*] appName=pyspark-shell>"
            ],
            "text/html": [
              "\n",
              "        <div>\n",
              "            <p><b>SparkContext</b></p>\n",
              "\n",
              "            <p><a href=\"http://2370bed7ed73:4040\">Spark UI</a></p>\n",
              "\n",
              "            <dl>\n",
              "              <dt>Version</dt>\n",
              "                <dd><code>v3.3.2</code></dd>\n",
              "              <dt>Master</dt>\n",
              "                <dd><code>local[*]</code></dd>\n",
              "              <dt>AppName</dt>\n",
              "                <dd><code>pyspark-shell</code></dd>\n",
              "            </dl>\n",
              "        </div>\n",
              "        "
            ]
          },
          "metadata": {},
          "execution_count": 7
        }
      ]
    },
    {
      "cell_type": "code",
      "metadata": {
        "scrolled": false,
        "id": "pm39wyON2QwV",
        "colab": {
          "base_uri": "https://localhost:8080/"
        },
        "outputId": "c7c8e08b-4a5c-4fc8-a121-95e429f6c754"
      },
      "source": [
        "#Charger un csv (modifier le path)\n",
        "path=\"/My_drive/My Drive/big data/Projet/offensive_comment_small.csv\"\n",
        "df = spark.read.csv(path,header=True, sep=\";\")\n",
        "print(df.count())\n",
        "df.show()"
      ],
      "execution_count": null,
      "outputs": [
        {
          "output_type": "stream",
          "name": "stdout",
          "text": [
            "10000\n",
            "+------------+--------------------+-----+------------+-------+------+------+-------------+\n",
            "|          id|        comment_text|toxic|severe_toxic|obscene|threat|insult|identity_hate|\n",
            "+------------+--------------------+-----+------------+-------+------+------+-------------+\n",
            "| 86236166566|How can Ceha use ...|    0|           0|      0|     0|     0|            0|\n",
            "| 67516955649|Blah... Childlove...|    0|           0|      0|     0|     0|            0|\n",
            "| 22144619496|WTH DUDE Deleting...|    0|           0|      0|     0|     1|            0|\n",
            "| 10428262239|\"'\"\"I''ve added a...|    0|           0|      0|     0|     0|            0|\n",
            "| 82779776033|Violation Your re...|    0|           0|      0|     0|     0|            0|\n",
            "| 72769334443|take care  16:55,...|    0|           0|      0|     0|     0|            0|\n",
            "| 80250530594|'The second examp...|    0|           0|      0|     0|     0|            0|\n",
            "| 40748094103|\"'\"\" Bye I''m not...|    1|           0|      1|     0|     1|            0|\n",
            "|  9834124974|Would have been n...|    0|           0|      0|     0|     0|            0|\n",
            "| 96797040416|\"'\"\"Thanks. I jus...|    0|           0|      0|     0|     0|            0|\n",
            "|   764135765|'friendly notice ...|    0|           0|      0|     0|     0|            0|\n",
            "| 37568719168|\"'\"\"Well, Billy r...|    0|           0|      0|     0|     0|            0|\n",
            "| 64717794985|'If that is the c...|    0|           0|      0|     0|     0|            0|\n",
            "| 85063449824|hey wat up get ba...|    0|           0|      0|     0|     0|            0|\n",
            "| 31729695911|If you read the a...|    0|           0|      0|     0|     0|            0|\n",
            "|    82428052|Fried chickens Is...|    0|           0|      0|     0|     0|            0|\n",
            "| 37277783752|'Erik, for crying...|    1|           0|      0|     0|     0|            0|\n",
            "| 41986743642|I remember your a...|    0|           0|      0|     0|     0|            0|\n",
            "| 29352765853|\"'\"\": Lets put it...|    0|           0|      0|     0|     0|            0|\n",
            "|134911921361|'i like to fuck s...|    1|           0|      1|     0|     0|            0|\n",
            "+------------+--------------------+-----+------------+-------+------+------+-------------+\n",
            "only showing top 20 rows\n",
            "\n"
          ]
        }
      ]
    },
    {
      "cell_type": "markdown",
      "source": [
        "# Nettoyer la chaine de caractère"
      ],
      "metadata": {
        "id": "gT3C_w35XTy5"
      }
    },
    {
      "cell_type": "code",
      "source": [
        "# Dans un premier temps, faire une fonction qui fonctionne sur un exemple simple\n",
        "\n",
        "import spacy\n",
        "\n",
        "nlp = spacy.load(\"en_core_web_sm\", disable=[\"ner\"])\n",
        "\n",
        "def clean_text(text):\n",
        "  doc = nlp(text)\n",
        "  tab_result = []\n",
        "  for token in doc:\n",
        "    if (token.is_stop == False) & (len(token.text) > 2) and token.pos_!=\"PUNCT\":\n",
        "      tab_result.append(token.lemma_)\n",
        "  # Ne garder que les LEMME, enlever les STOPWORDS et les mots de moins de 2 charactères\n",
        "  # A vous de coder\n",
        "  return tab_result\n",
        "\n",
        "# modifier la phrase \n",
        "clean_text(\"This IS a test, we are currently in a big data lesson and we try spacy\")"
      ],
      "metadata": {
        "id": "Fuk8jF9vXs3t",
        "colab": {
          "base_uri": "https://localhost:8080/"
        },
        "outputId": "0846e0e8-1176-4004-bd8e-24804c4b23a4"
      },
      "execution_count": null,
      "outputs": [
        {
          "output_type": "stream",
          "name": "stderr",
          "text": [
            "/usr/local/lib/python3.9/dist-packages/torch/cuda/__init__.py:497: UserWarning: Can't initialize NVML\n",
            "  warnings.warn(\"Can't initialize NVML\")\n"
          ]
        },
        {
          "output_type": "execute_result",
          "data": {
            "text/plain": [
              "['test', 'currently', 'big', 'datum', 'lesson', 'try', 'spacy']"
            ]
          },
          "metadata": {},
          "execution_count": 130
        }
      ]
    },
    {
      "cell_type": "code",
      "source": [
        "# A l'aide du premier TP et des UDF, appliquez votre fonction sur la colonne \"comment_text\"\n",
        "df_test= df.withColumn('Nettoyage', F.udf(lambda a : clean_text(a),T.ArrayType(T.StringType()))(\"comment_text\"))\n",
        "df_test.show()"
      ],
      "metadata": {
        "colab": {
          "base_uri": "https://localhost:8080/"
        },
        "id": "10ycIsUuXK2i",
        "outputId": "1d9d81f6-0e74-4d0a-8d3c-b3801af969bd"
      },
      "execution_count": null,
      "outputs": [
        {
          "output_type": "stream",
          "name": "stdout",
          "text": [
            "+------------+--------------------+-----+------------+-------+------+------+-------------+--------------------+\n",
            "|          id|        comment_text|toxic|severe_toxic|obscene|threat|insult|identity_hate|           Nettoyage|\n",
            "+------------+--------------------+-----+------------+-------+------+------+-------------+--------------------+\n",
            "| 86236166566|How can Ceha use ...|    0|           0|      0|     0|     0|            0|[Ceha, use, word,...|\n",
            "| 67516955649|Blah... Childlove...|    0|           0|      0|     0|     0|            0|[Blah, Childlove,...|\n",
            "| 22144619496|WTH DUDE Deleting...|    0|           0|      0|     0|     1|            0|[wth, dude, delet...|\n",
            "| 10428262239|\"'\"\"I''ve added a...|    0|           0|      0|     0|     0|            0|[add, citation, E...|\n",
            "| 82779776033|Violation Your re...|    0|           0|      0|     0|     0|            0|[violation, recen...|\n",
            "| 72769334443|take care  16:55,...|    0|           0|      0|     0|     0|            0|[care, 16:55, Jun...|\n",
            "| 80250530594|'The second examp...|    0|           0|      0|     0|     0|            0|[second, example,...|\n",
            "| 40748094103|\"'\"\" Bye I''m not...|    1|           0|      1|     0|     1|            0|[Bye, I''m, go, d...|\n",
            "|  9834124974|Would have been n...|    0|           0|      0|     0|     0|            0|     [nice, warning]|\n",
            "| 96797040416|\"'\"\"Thanks. I jus...|    0|           0|      0|     0|     0|            0|[thank, look, Pit...|\n",
            "|   764135765|'friendly notice ...|    0|           0|      0|     0|     0|            0|[friendly, notice...|\n",
            "| 37568719168|\"'\"\"Well, Billy r...|    0|           0|      0|     0|     0|            0|[Billy, kind, ego...|\n",
            "| 64717794985|'If that is the c...|    0|           0|      0|     0|     0|            0|[case, away, make...|\n",
            "| 85063449824|hey wat up get ba...|    0|           0|      0|     0|     0|            0|          [hey, wat]|\n",
            "| 31729695911|If you read the a...|    0|           0|      0|     0|     0|            0|[read, discussion...|\n",
            "|    82428052|Fried chickens Is...|    0|           0|      0|     0|     0|            0|[fried, chicken, ...|\n",
            "| 37277783752|'Erik, for crying...|    1|           0|      0|     0|     0|            0|[Erik, cry, loud,...|\n",
            "| 41986743642|I remember your a...|    0|           0|      0|     0|     0|            0|[remember, attemp...|\n",
            "| 29352765853|\"'\"\": Lets put it...|    0|           0|      0|     0|     0|            0|[Lets, simply, re...|\n",
            "|134911921361|'i like to fuck s...|    1|           0|      1|     0|     0|            0|[like, fuck, shee...|\n",
            "+------------+--------------------+-----+------------+-------+------+------+-------------+--------------------+\n",
            "only showing top 20 rows\n",
            "\n"
          ]
        }
      ]
    },
    {
      "cell_type": "markdown",
      "source": [
        "## Sauvegarder dans un fichier parquet, recharger vos données"
      ],
      "metadata": {
        "id": "ludDQBcyYLjx"
      }
    },
    {
      "cell_type": "code",
      "source": [
        "df_test.write.parquet(\"/My_drive/My Drive/big data/Projet/clean.pqt\")"
      ],
      "metadata": {
        "id": "YSM5xj4QX5Is"
      },
      "execution_count": null,
      "outputs": []
    },
    {
      "cell_type": "code",
      "source": [
        "df_test = spark.read.parquet(\"/My_drive/My Drive/big data/Projet/clean.pqt\")\n",
        "df_test.count()"
      ],
      "metadata": {
        "id": "mTxhZn8-YR9F",
        "colab": {
          "base_uri": "https://localhost:8080/"
        },
        "outputId": "8dd6b03d-5bd4-43ea-f194-1f35170575d3"
      },
      "execution_count": null,
      "outputs": [
        {
          "output_type": "execute_result",
          "data": {
            "text/plain": [
              "10000"
            ]
          },
          "metadata": {},
          "execution_count": 142
        }
      ]
    },
    {
      "cell_type": "markdown",
      "source": [
        "Prochaine étapes :\n",
        "- Fit, transform sur un algo de \"vectorisation\" CountVectorizer, TFIDF, W2V etc...\n",
        "- Entrainer un modele sur la sortie de la \"vectorisation\"\n",
        "\n",
        "Tips :\n",
        "- Attention aux types, valeurs manquantes etc...\n",
        "- Evaluer votre modèle à chaque tests\n",
        "- Tester différentes approches !\n",
        "- cf slides"
      ],
      "metadata": {
        "id": "6xjbx7wNYTNK"
      }
    },
    {
      "cell_type": "code",
      "source": [
        "from pyspark.ml.feature import CountVectorizer\n",
        "\n",
        "from pyspark.ml.evaluation import BinaryClassificationEvaluator\n",
        "\n",
        "from pyspark.mllib.evaluation import BinaryClassificationMetrics\n"
      ],
      "metadata": {
        "id": "EZgY6ytOYuFc"
      },
      "execution_count": null,
      "outputs": []
    },
    {
      "cell_type": "code",
      "source": [
        "from pyspark.ml.classification import RandomForestClassifier\n",
        "\n",
        "from pyspark.ml.classification import LogisticRegression"
      ],
      "metadata": {
        "id": "sdscTBTaxxAS"
      },
      "execution_count": null,
      "outputs": []
    },
    {
      "cell_type": "code",
      "source": [
        "\n",
        "cv = CountVectorizer(inputCol = \"Nettoyage\", outputCol=\"features\",vocabSize = 2800, minDF = 1.0)\n",
        "model = cv.fit(df_test)\n",
        "result = model.transform(df_test)\n",
        "result.show(truncate=False)\n"
      ],
      "metadata": {
        "id": "UkyUIDwQ1-G_",
        "colab": {
          "base_uri": "https://localhost:8080/"
        },
        "outputId": "a40d5f1d-4d44-416e-a0bd-d67e129561e8"
      },
      "execution_count": null,
      "outputs": [
        {
          "output_type": "stream",
          "name": "stdout",
          "text": [
            "+------------+------------------------------------------------------------------------------------------------------------------------------------------------------------------------------------------------------------------------------------------------------------------------------------------------------------------------------------------------------------------------------------------------------------------------------------------------------------------------------------------------------------------------------------------------------------------------------------------------------------------------------------------------------------------------------------------------------------------------------------------------------------------------------------------------------------------------------------------------------------------------------------------------------------------------------------------------------------------------------------------------------------------------------------------------------------------------------------------------------------------------------------------------------------------------------------------------------------------------------------------------------------------------------------------------------------------------------------------------------------------------------------------------------------------+-----+------------+-------+------+------+-------------+----------------------------------------------------------------------------------------------------------------------------------------------------------------------------------------------------------------------------------------------------------------------------------------------------------------------------------------------------------------------------------------------------------------------------------------------------------------------------------------------------------------------------------------------------------------------------------------------------------------------------------------------------------------------------------------------------------------------------------------------------------------------------------------------------------------------------------------------------------------------------------------------------------------+-------------------------------------------------------------------------------------------------------------------------------------------------------------------------------------------------------------------------------------------------------------------------------------------------------------------------------------------------------------------------------------------------------------------------------------------------------------------------------------------------------------------------------------------------------------------------------------------------------------------------------------+\n",
            "|id          |comment_text                                                                                                                                                                                                                                                                                                                                                                                                                                                                                                                                                                                                                                                                                                                                                                                                                                                                                                                                                                                                                                                                                                                                                                                                                                                                                                                                                                                                      |toxic|severe_toxic|obscene|threat|insult|identity_hate|Nettoyage                                                                                                                                                                                                                                                                                                                                                                                                                                                                                                                                                                                                                                                                                                                                                                                                                                                                                                       |features                                                                                                                                                                                                                                                                                                                                                                                                                                                                                                                                                                                                                             |\n",
            "+------------+------------------------------------------------------------------------------------------------------------------------------------------------------------------------------------------------------------------------------------------------------------------------------------------------------------------------------------------------------------------------------------------------------------------------------------------------------------------------------------------------------------------------------------------------------------------------------------------------------------------------------------------------------------------------------------------------------------------------------------------------------------------------------------------------------------------------------------------------------------------------------------------------------------------------------------------------------------------------------------------------------------------------------------------------------------------------------------------------------------------------------------------------------------------------------------------------------------------------------------------------------------------------------------------------------------------------------------------------------------------------------------------------------------------+-----+------------+-------+------+------+-------------+----------------------------------------------------------------------------------------------------------------------------------------------------------------------------------------------------------------------------------------------------------------------------------------------------------------------------------------------------------------------------------------------------------------------------------------------------------------------------------------------------------------------------------------------------------------------------------------------------------------------------------------------------------------------------------------------------------------------------------------------------------------------------------------------------------------------------------------------------------------------------------------------------------------+-------------------------------------------------------------------------------------------------------------------------------------------------------------------------------------------------------------------------------------------------------------------------------------------------------------------------------------------------------------------------------------------------------------------------------------------------------------------------------------------------------------------------------------------------------------------------------------------------------------------------------------+\n",
            "|86236166566 |How can Ceha use words POV in every other sentence and not get banned, yet I may not?Here is the map btw.(  ).                                                                                                                                                                                                                                                                                                                                                                                                                                                                                                                                                                                                                                                                                                                                                                                                                                                                                                                                                                                                                                                                                                                                                                                                                                                                                                    |0    |0           |0      |0     |0     |0            |[Ceha, use, word, POV, sentence, ban, not?here, map, btw]                                                                                                                                                                                                                                                                                                                                                                                                                                                                                                                                                                                                                                                                                                                                                                                                                                                       |(2800,[13,88,144,280,410,817,896],[1.0,1.0,1.0,1.0,1.0,1.0,1.0])                                                                                                                                                                                                                                                                                                                                                                                                                                                                                                                                                                     |\n",
            "|67516955649 |Blah... Childlove movement needs serious work too. · (scribble) 21:23, Apr 11, 2005 (UTC)                                                                                                                                                                                                                                                                                                                                                                                                                                                                                                                                                                                                                                                                                                                                                                                                                                                                                                                                                                                                                                                                                                                                                                                                                                                                                                                         |0    |0           |0      |0     |0     |0            |[Blah, Childlove, movement, need, work, scribble, 21:23, Apr, 2005, UTC]                                                                                                                                                                                                                                                                                                                                                                                                                                                                                                                                                                                                                                                                                                                                                                                                                                        |(2800,[23,25,214,386,1097],[1.0,1.0,1.0,1.0,1.0])                                                                                                                                                                                                                                                                                                                                                                                                                                                                                                                                                                                    |\n",
            "|22144619496 |WTH DUDE Deleting my articles, you got no bloody right! how would you like it? you power mad freak! Come out from hiding behind your computer screen!                                                                                                                                                                                                                                                                                                                                                                                                                                                                                                                                                                                                                                                                                                                                                                                                                                                                                                                                                                                                                                                                                                                                                                                                                                                             |0    |0           |0      |0     |1     |0            |[wth, dude, delete, article, get, bloody, right, like, power, mad, freak, come, hide, computer, screen]                                                                                                                                                                                                                                                                                                                                                                                                                                                                                                                                                                                                                                                                                                                                                                                                         |(2800,[0,4,16,44,54,75,364,487,1095,1105,1538,1781,2292],[1.0,1.0,1.0,1.0,1.0,1.0,1.0,1.0,1.0,1.0,1.0,1.0,1.0])                                                                                                                                                                                                                                                                                                                                                                                                                                                                                                                      |\n",
            "|10428262239 |\"'\"\"I''ve added a citation for Epicurus being the originator of the \"\"\"\"Problem of Evil\"\"\"\".  There''s probably a better one available somewhere, but this one will do for now.  Not sure whether you were looking for a cite for the theory as a whole or not.  I don''t see a lot of mainstream media discussion of the \"\"\"\"alternate ending\"\"\"\" theory (except for maybe this article in The Oregon Herald, a publication with which I am unfamiliar), but there''s plenty of discussion of it in online sources (reviewers and blogs/message boards): , , , , , , , , , , etc.  As such, it''s not original research, but it''d be nice to have a firm print citation if someone can find one. - \"\"'\"                                                                                                                                                                                                                                                                                                                                                                                                                                                                                                                                                                                                                                                                                                         |0    |0           |0      |0     |0     |0            |[add, citation, Epicurus, originator, Problem, Evil, probably, well, available, sure, look, cite, theory, don''t, lot, mainstream, medium, discussion, alternate, end, theory, maybe, article, Oregon, Herald, publication, unfamiliar, plenty, discussion, online, source, reviewer, blog, message, board, etc, original, research, it''d, nice, firm, print, citation, find]                                                                                                                                                                                                                                                                                                                                                                                                                                                                                                                                  |(2800,[0,8,9,11,28,29,62,79,108,153,172,175,178,187,194,198,206,223,234,238,276,490,611,698,723,958,1044,1099,1135,1239,1672,1792,2042,2045],[1.0,1.0,1.0,1.0,1.0,1.0,2.0,1.0,1.0,1.0,1.0,1.0,1.0,1.0,1.0,1.0,1.0,1.0,1.0,1.0,2.0,2.0,1.0,1.0,1.0,1.0,1.0,1.0,1.0,1.0,1.0,1.0,1.0,1.0])                                                                                                                                                                                                                                                                                                                                              |\n",
            "|82779776033 |Violation Your recent revert on Pro-life is in direct violation of the consensus and constitutes edit-warring.  I will be counting your reversions with the goal of getting you banned again, this time for a bit longer.                                                                                                                                                                                                                                                                                                                                                                                                                                                                                                                                                                                                                                                                                                                                                                                                                                                                                                                                                                                                                                                                                                                                                                                         |0    |0           |0      |0     |0     |0            |[violation, recent, revert, pro, life, direct, violation, consensus, constitute, edit, war, count, reversion, goal, get, ban, time, bit, long]                                                                                                                                                                                                                                                                                                                                                                                                                                                                                                                                                                                                                                                                                                                                                                  |(2800,[2,12,48,75,92,133,144,163,205,230,302,479,695,718,869,1145,1316,1344],[1.0,1.0,1.0,1.0,1.0,1.0,1.0,1.0,1.0,1.0,1.0,2.0,1.0,1.0,1.0,1.0,1.0,1.0])                                                                                                                                                                                                                                                                                                                                                                                                                                                                              |\n",
            "|72769334443 |take care  16:55, Jun 13, 2005 (UTC)                                                                                                                                                                                                                                                                                                                                                                                                                                                                                                                                                                                                                                                                                                                                                                                                                                                                                                                                                                                                                                                                                                                                                                                                                                                                                                                                                                              |0    |0           |0      |0     |0     |0            |[care, 16:55, Jun, 2005, UTC]                                                                                                                                                                                                                                                                                                                                                                                                                                                                                                                                                                                                                                                                                                                                                                                                                                                                                   |(2800,[214,218,386],[1.0,1.0,1.0])                                                                                                                                                                                                                                                                                                                                                                                                                                                                                                                                                                                                   |\n",
            "|80250530594 |'The second example in your sandbox is what I was thinking and it doesn''t take up that much extra space.'                                                                                                                                                                                                                                                                                                                                                                                                                                                                                                                                                                                                                                                                                                                                                                                                                                                                                                                                                                                                                                                                                                                                                                                                                                                                                                        |0    |0           |0      |0     |0     |0            |[second, example, sandbox, think, doesn''t, extra, space]                                                                                                                                                                                                                                                                                                                                                                                                                                                                                                                                                                                                                                                                                                                                                                                                                                                       |(2800,[7,90,167,251,482,612,1510],[1.0,1.0,1.0,1.0,1.0,1.0,1.0])                                                                                                                                                                                                                                                                                                                                                                                                                                                                                                                                                                     |\n",
            "|40748094103 |\"'\"\" Bye I''m not going to deal with the assholes any more.  Best wishes,  Boomer!  \"\"'\"                                                                                                                                                                                                                                                                                                                                                                                                                                                                                                                                                                                                                                                                                                                                                                                                                                                                                                                                                                                                                                                                                                                                                                                                                                                                                                                          |1    |0           |1      |0     |1     |0            |[Bye, I''m, go, deal, asshole, good, wish, Boomer]                                                                                                                                                                                                                                                                                                                                                                                                                                                                                                                                                                                                                                                                                                                                                                                                                                                              |(2800,[17,18,34,287,324,800,2614],[1.0,1.0,1.0,1.0,1.0,1.0,1.0])                                                                                                                                                                                                                                                                                                                                                                                                                                                                                                                                                                     |\n",
            "|9834124974  |Would have been nice if there had been a FIRST warning....                                                                                                                                                                                                                                                                                                                                                                                                                                                                                                                                                                                                                                                                                                                                                                                                                                                                                                                                                                                                                                                                                                                                                                                                                                                                                                                                                        |0    |0           |0      |0     |0     |0            |[nice, warning]                                                                                                                                                                                                                                                                                                                                                                                                                                                                                                                                                                                                                                                                                                                                                                                                                                                                                                 |(2800,[198,253],[1.0,1.0])                                                                                                                                                                                                                                                                                                                                                                                                                                                                                                                                                                                                           |\n",
            "|96797040416 |\"'\"\"Thanks. I just looked at Pithole and thought it looked pretty good - a few places that could use a copyedit, probably would help to have a map of the streets (I could help with this if needed), and perhaps a bit more on Geology. What do you think is still needed? I can do a thorough review if you''d like. Sorry I do not know of more sources for Niagara.   ><>°° \"\"'\"                                                                                                                                                                                                                                                                                                                                                                                                                                                                                                                                                                                                                                                                                                                                                                                                                                                                                                                                                                                                                              |0    |0           |0      |0     |0     |0            |[thank, look, Pithole, think, look, pretty, good, place, use, copyedit, probably, help, map, street, help, need, bit, Geology, think, need, thorough, review, you''d, like, sorry, know, source, Niagara]                                                                                                                                                                                                                                                                                                                                                                                                                                                                                                                                                                                                                                                                                                       |(2800,[4,6,7,8,10,13,18,23,28,55,58,148,156,194,230,396,775,896,2086,2384],[1.0,1.0,2.0,1.0,1.0,1.0,1.0,2.0,2.0,1.0,2.0,1.0,1.0,1.0,1.0,1.0,1.0,1.0,1.0,1.0])                                                                                                                                                                                                                                                                                                                                                                                                                                                                        |\n",
            "|764135765   |'friendly notice hey BilCat, what''s your problem?'                                                                                                                                                                                                                                                                                                                                                                                                                                                                                                                                                                                                                                                                                                                                                                                                                                                                                                                                                                                                                                                                                                                                                                                                                                                                                                                                                               |0    |0           |0      |0     |0     |0            |[friendly, notice, hey, BilCat, problem]                                                                                                                                                                                                                                                                                                                                                                                                                                                                                                                                                                                                                                                                                                                                                                                                                                                                        |(2800,[91,121,352,1230],[1.0,1.0,1.0,1.0])                                                                                                                                                                                                                                                                                                                                                                                                                                                                                                                                                                                           |\n",
            "|37568719168 |\"'\"\"Well, Billy really was kind of an egomaniac during the sessions.  There''s a Guitar World interview that I sourced in the main article about the band where it''s revealed that one time after Jimmy got high Billy forced him to perform the drum tracks for \"\"\"\"Cherub Rock\"\"\"\" over and over again until his hands bled.   \"\"'\"                                                                                                                                                                                                                                                                                                                                                                                                                                                                                                                                                                                                                                                                                                                                                                                                                                                                                                                                                                                                                                                                            |0    |0           |0      |0     |0     |0            |[Billy, kind, egomaniac, session, Guitar, World, interview, source, main, article, band, reveal, time, Jimmy, get, high, Billy, force, perform, drum, track, Cherub, Rock, hand, bleed]                                                                                                                                                                                                                                                                                                                                                                                                                                                                                                                                                                                                                                                                                                                         |(2800,[0,8,12,75,255,260,284,289,418,427,936,977,1106,1227,1430,2177,2364],[1.0,1.0,1.0,1.0,1.0,1.0,1.0,1.0,1.0,1.0,1.0,1.0,1.0,1.0,1.0,1.0,1.0])                                                                                                                                                                                                                                                                                                                                                                                                                                                                                    |\n",
            "|64717794985 |'If that is the case then why do you get away with making stuff up on the sentai wiki''s?'                                                                                                                                                                                                                                                                                                                                                                                                                                                                                                                                                                                                                                                                                                                                                                                                                                                                                                                                                                                                                                                                                                                                                                                                                                                                                                                        |0    |0           |0      |0     |0     |0            |[case, away, make, stuff, sentai, wiki]                                                                                                                                                                                                                                                                                                                                                                                                                                                                                                                                                                                                                                                                                                                                                                                                                                                                         |(2800,[35,60,102,307,341],[1.0,1.0,1.0,1.0,1.0])                                                                                                                                                                                                                                                                                                                                                                                                                                                                                                                                                                                     |\n",
            "|85063449824 |hey wat up get back ta me                                                                                                                                                                                                                                                                                                                                                                                                                                                                                                                                                                                                                                                                                                                                                                                                                                                                                                                                                                                                                                                                                                                                                                                                                                                                                                                                                                                         |0    |0           |0      |0     |0     |0            |[hey, wat]                                                                                                                                                                                                                                                                                                                                                                                                                                                                                                                                                                                                                                                                                                                                                                                                                                                                                                      |(2800,[352],[1.0])                                                                                                                                                                                                                                                                                                                                                                                                                                                                                                                                                                                                                   |\n",
            "|31729695911 |If you read the above discussion, you will see that is exactly what he is doing already. He has not actually responded to the most difficult questions, especially regarding the courtesy shown to newer members by one admin and one editor. His support-gathering tactics seem to be working though.                                                                                                                                                                                                                                                                                                                                                                                                                                                                                                                                                                                                                                                                                                                                                                                                                                                                                                                                                                                                                                                                                                            |0    |0           |0      |0     |0     |0            |[read, discussion, exactly, actually, respond, difficult, question, especially, courtesy, show, new, member, admin, editor, support, gather, tactic, work]                                                                                                                                                                                                                                                                                                                                                                                                                                                                                                                                                                                                                                                                                                                                                      |(2800,[25,40,53,62,67,73,111,113,129,161,273,384,436,437,849,1484,2172,2262],[1.0,1.0,1.0,1.0,1.0,1.0,1.0,1.0,1.0,1.0,1.0,1.0,1.0,1.0,1.0,1.0,1.0,1.0])                                                                                                                                                                                                                                                                                                                                                                                                                                                                              |\n",
            "|82428052    |Fried chickens Is dat sum fried chickens?                                                                                                                                                                                                                                                                                                                                                                                                                                                                                                                                                                                                                                                                                                                                                                                                                                                                                                                                                                                                                                                                                                                                                                                                                                                                                                                                                                         |0    |0           |0      |0     |0     |0            |[fried, chicken, dat, sum, fry, chicken]                                                                                                                                                                                                                                                                                                                                                                                                                                                                                                                                                                                                                                                                                                                                                                                                                                                                        |(2800,[2281],[1.0])                                                                                                                                                                                                                                                                                                                                                                                                                                                                                                                                                                                                                  |\n",
            "|37277783752 |'Erik, for crying out loud. You legally can have sex with children, but not with underage children. Underage children are children beneath the legal age of consent (different states have 14, 15, 16, 17 or 18 as the underage limit. Children in most countries means someone under the age of 18. In Ireland for example, a ''child'' aged 17 is over the age of consent. In Britain it is 16. Do you know the first thing about the topic? The name is standard english asage. Scandal is a POV term. Allegation allows the discussion of cases that have not yet come to court, which cannot for technical reasons be prosecuted and cases that were thrown up as invalid. Roman Catholic Church sex abuses allegations in standard english means allegations about the Roman Catholic Church. Public relations is minor tabloid point when you are discussing the rape of children, so stop adding in an irrelevant topic. Your mucking around lost a lot of changes, spelling corrections and other problems solved. I was caught in an edit conflict with you and given the scale of the changes could do nothing but a cut and paste job. I then tried to go in to your version to transfer over accurate changes but then you started this insane fucking around with the article''s location, using a POV title. I will keep moving back to a carefully worded neutral title.  22:18, 9 Aug 2003 (UTC)'|1    |0           |0      |0     |0     |0            |[Erik, cry, loud, legally, sex, child, underage, child, underage, child, child, beneath, legal, age, consent, different, state, underage, limit, child, country, mean, age, Ireland, example, child, aged, age, consent, Britain, know, thing, topic, standard, english, asage, scandal, pov, term, Allegation, allow, discussion, case, come, court, technical, reason, prosecute, case, throw, invalid, roman, Catholic, Church, sex, abuse, allegation, standard, english, mean, allegation, Roman, Catholic, Church, public, relation, minor, tabloid, point, discuss, rape, child, stop, add, irrelevant, topic, mucking, lose, lot, change, spell, correction, problem, solve, catch, edit, conflict, give, scale, change, cut, paste, job, try, version, transfer, accurate, change, start, insane, fucking, article, location, POV, title, move, carefully, word, neutral, title, 22:18, Aug, 2003, UTC]|(2800,[0,2,6,11,36,41,43,49,50,51,54,59,62,70,76,88,91,102,105,114,124,167,171,175,181,207,214,225,227,249,268,308,401,407,410,442,449,452,464,530,546,566,580,662,697,722,770,810,881,912,931,981,1008,1029,1040,1139,1158,1172,1219,1243,1246,1333,1378,1492,1527,1561,1729,1748,1935,2075,2103,2241,2253,2254,2282],[1.0,1.0,1.0,1.0,3.0,1.0,1.0,1.0,1.0,1.0,1.0,2.0,1.0,1.0,1.0,1.0,1.0,2.0,1.0,1.0,1.0,1.0,1.0,1.0,1.0,2.0,1.0,1.0,2.0,1.0,1.0,1.0,2.0,1.0,1.0,1.0,1.0,2.0,1.0,7.0,1.0,1.0,1.0,1.0,1.0,1.0,2.0,1.0,1.0,1.0,3.0,1.0,2.0,2.0,1.0,1.0,1.0,1.0,1.0,1.0,1.0,1.0,1.0,2.0,1.0,1.0,1.0,1.0,1.0,1.0,1.0,1.0,1.0,1.0,1.0])|\n",
            "|41986743642 |I remember your attempts for Kwak Dong-yeon better. Rest in peace, I hope there is no end of appreciation for what you have done.  (Talk)                                                                                                                                                                                                                                                                                                                                                                                                                                                                                                                                                                                                                                                                                                                                                                                                                                                                                                                                                                                                                                                                                                                                                                                                                                                                         |0    |0           |0      |0     |0     |0            |[remember, attempt, Kwak, Dong, yeon, well, rest, peace, hope, end, appreciation, talk]                                                                                                                                                                                                                                                                                                                                                                                                                                                                                                                                                                                                                                                                                                                                                                                                                         |(2800,[5,79,142,234,328,417,732,1357],[1.0,1.0,1.0,1.0,1.0,1.0,1.0,1.0])                                                                                                                                                                                                                                                                                                                                                                                                                                                                                                                                                             |\n",
            "|29352765853 |\"'\"\": Lets put it simply. A religion is a belief system. What do athiests believe in? Well they might not  have a ''system'' but they do have a belief of nothing. (e.g You believe that I''m writing this here therefore, you are a Storkianist, your system is your literacy skills) etc..... thats a rhetorical example but that''s basically my point of why it is a religion.  \"\"'\"                                                                                                                                                                                                                                                                                                                                                                                                                                                                                                                                                                                                                                                                                                                                                                                                                                                                                                                                                                                                                          |0    |0           |0      |0     |0     |0            |[Lets, simply, religion, belief, system, athiest, believe, system, belief, e.g, believe, I''m, write, Storkianist, system, literacy, skill, etc, rhetorical, example, basically, point, religion]                                                                                                                                                                                                                                                                                                                                                                                                                                                                                                                                                                                                                                                                                                               |(2800,[17,45,51,89,167,185,187,340,521,838,1065,1549],[1.0,1.0,1.0,2.0,1.0,1.0,1.0,3.0,2.0,1.0,2.0,1.0])                                                                                                                                                                                                                                                                                                                                                                                                                                                                                                                             |\n",
            "|134911921361|'i like to fuck sheep because I''m a frosty piece of shit'                                                                                                                                                                                                                                                                                                                                                                                                                                                                                                                                                                                                                                                                                                                                                                                                                                                                                                                                                                                                                                                                                                                                                                                                                                                                                                                                                        |1    |0           |1      |0     |0     |0            |[like, fuck, sheep, I''m, frosty, piece, shit]                                                                                                                                                                                                                                                                                                                                                                                                                                                                                                                                                                                                                                                                                                                                                                                                                                                                  |(2800,[4,17,31,101,196],[1.0,1.0,1.0,1.0,1.0])                                                                                                                                                                                                                                                                                                                                                                                                                                                                                                                                                                                       |\n",
            "+------------+------------------------------------------------------------------------------------------------------------------------------------------------------------------------------------------------------------------------------------------------------------------------------------------------------------------------------------------------------------------------------------------------------------------------------------------------------------------------------------------------------------------------------------------------------------------------------------------------------------------------------------------------------------------------------------------------------------------------------------------------------------------------------------------------------------------------------------------------------------------------------------------------------------------------------------------------------------------------------------------------------------------------------------------------------------------------------------------------------------------------------------------------------------------------------------------------------------------------------------------------------------------------------------------------------------------------------------------------------------------------------------------------------------------+-----+------------+-------+------+------+-------------+----------------------------------------------------------------------------------------------------------------------------------------------------------------------------------------------------------------------------------------------------------------------------------------------------------------------------------------------------------------------------------------------------------------------------------------------------------------------------------------------------------------------------------------------------------------------------------------------------------------------------------------------------------------------------------------------------------------------------------------------------------------------------------------------------------------------------------------------------------------------------------------------------------------+-------------------------------------------------------------------------------------------------------------------------------------------------------------------------------------------------------------------------------------------------------------------------------------------------------------------------------------------------------------------------------------------------------------------------------------------------------------------------------------------------------------------------------------------------------------------------------------------------------------------------------------+\n",
            "only showing top 20 rows\n",
            "\n"
          ]
        }
      ]
    },
    {
      "cell_type": "markdown",
      "source": [
        "Pour la suite :\n",
        "Vous êtes en autonomie, à vous d'experimenter différentes approches.\n",
        "Chaque approche (même si elle ne donne pas de bon résultats) est intéressante à documenter.\n",
        "\n",
        "Quelques pistes (Slides 63+64 du cours) :\n",
        "- Mesurer les performances de vos modèles (et justifier le choix de votre score)\n",
        "- Tenir un excel/autre doc à jour avec vos scores pour chaque experimentation\n",
        "- Gerer les données déséquilibrer\n",
        "- Tester un Word2Vec\n",
        "- Ajouter un IDF après votre countVectorizer"
      ],
      "metadata": {
        "id": "BccaRiAi1_O2"
      }
    },
    {
      "cell_type": "code",
      "source": [
        "result.printSchema()\n",
        "result= result.withColumn('toxic', result[\"toxic\"].cast(\"float\"))\n",
        "result2= result.dropna()"
      ],
      "metadata": {
        "id": "QrGUvwUc3gkR",
        "colab": {
          "base_uri": "https://localhost:8080/"
        },
        "outputId": "44f2c44c-4b06-4c4d-df07-8acc7222b0b5"
      },
      "execution_count": null,
      "outputs": [
        {
          "output_type": "stream",
          "name": "stdout",
          "text": [
            "root\n",
            " |-- id: string (nullable = true)\n",
            " |-- comment_text: string (nullable = true)\n",
            " |-- toxic: string (nullable = true)\n",
            " |-- severe_toxic: string (nullable = true)\n",
            " |-- obscene: string (nullable = true)\n",
            " |-- threat: string (nullable = true)\n",
            " |-- insult: string (nullable = true)\n",
            " |-- identity_hate: string (nullable = true)\n",
            " |-- Nettoyage: array (nullable = true)\n",
            " |    |-- element: string (containsNull = true)\n",
            " |-- features: vector (nullable = true)\n",
            "\n"
          ]
        }
      ]
    },
    {
      "cell_type": "markdown",
      "source": [
        "Train Test Split sur PySpark"
      ],
      "metadata": {
        "id": "pj3QseUSLvyh"
      }
    },
    {
      "cell_type": "code",
      "source": [
        "training_data, test_data = result2.randomSplit([0.8, 0.2], seed=1234)"
      ],
      "metadata": {
        "id": "8eliutKBLskq"
      },
      "execution_count": null,
      "outputs": []
    },
    {
      "cell_type": "code",
      "source": [
        "print(training_data.count())\n",
        "print(test_data.count())"
      ],
      "metadata": {
        "colab": {
          "base_uri": "https://localhost:8080/"
        },
        "id": "qsyaEYGMMDZu",
        "outputId": "89aaaed1-adca-456e-a153-94da9882415c"
      },
      "execution_count": null,
      "outputs": [
        {
          "output_type": "stream",
          "name": "stdout",
          "text": [
            "8020\n",
            "1978\n"
          ]
        }
      ]
    },
    {
      "cell_type": "markdown",
      "source": [
        "# RandomForestClassifier"
      ],
      "metadata": {
        "id": "Uk0QpdrfT1oT"
      }
    },
    {
      "cell_type": "code",
      "source": [
        "label = \"toxic\"\n",
        "rf = RandomForestClassifier(numTrees=10, maxDepth=25,featuresCol='features', labelCol=label)\n",
        "rf_model = rf.fit(training_data)\n",
        "df_pred = rf_model.transform(test_data)\n",
        "df_pred.show()"
      ],
      "metadata": {
        "colab": {
          "base_uri": "https://localhost:8080/"
        },
        "id": "z5UEG9lGMj53",
        "outputId": "c4e8a533-8d2f-4fa2-c45c-2ad79dfd8432"
      },
      "execution_count": null,
      "outputs": [
        {
          "output_type": "stream",
          "name": "stdout",
          "text": [
            "+------------+--------------------+-----+------------+-------+------+------+-------------+--------------------+--------------------+--------------------+--------------------+----------+\n",
            "|          id|        comment_text|toxic|severe_toxic|obscene|threat|insult|identity_hate|           Nettoyage|            features|       rawPrediction|         probability|prediction|\n",
            "+------------+--------------------+-----+------------+-------+------+------+-------------+--------------------+--------------------+--------------------+--------------------+----------+\n",
            "| 10018353480|'Hey, you were ri...|  0.0|           0|      0|     0|     0|            0|[hey, right, thin...|(2800,[3,7,8,10,1...|[8.54959939581196...|[0.85495993958119...|       0.0|\n",
            "|100311196363|user:captain-pois...|  1.0|           0|      0|     0|     0|            0|[user, captain, p...|(2800,[1,7,30,148...|[6.66456200797915...|[0.66645620079791...|       0.0|\n",
            "|101451150796|Piss off you slan...|  1.0|           0|      1|     0|     0|            0|[piss, slant, eye...|(2800,[543,1027],...|[6.58133042613821...|[0.65813304261382...|       0.0|\n",
            "|101520761507|Die in a fire.  7...|  1.0|           0|      0|     0|     0|            0|[die, fire, 76.12...|(2800,[37,431],[1...|[8.27044787566733...|[0.82704478756673...|       0.0|\n",
            "|101539538038|\"'\"\" Personal Att...|  1.0|           0|      0|     0|     0|            0|[Personal, Attack...|(2800,[9,39,110,1...|[4.45422372493795...|[0.44542237249379...|       1.0|\n",
            "| 10169610010|'For the record, ...|  0.0|           0|      0|     0|     0|            0|[record, I''m, co...|(2800,[8,11,17,19...|[8.75510920053776...|[0.87551092005377...|       0.0|\n",
            "| 10172988887| A knife for you!...|  1.0|           0|      0|     1|     0|            0|[knife, knife, da...|(2800,[34,104,132...|[6.15273970196664...|[0.61527397019666...|       0.0|\n",
            "| 10223313265|\"'\"\"Yeah, that''s...|  0.0|           0|      0|     0|     0|            0|[yeah, work., '''...|  (2800,[550],[1.0])|[7.7259227540119,...|[0.77259227540119...|       0.0|\n",
            "|102853444030|RE: Punk ass snit...|  1.0|           0|      1|     0|     1|            0|[punk, ass, snitc...|(2800,[135,189,26...|[1.74760594501547...|[0.17476059450154...|       1.0|\n",
            "|102905623506|I HATE PEOPLE BEC...|  1.0|           0|      0|     0|     0|            0|[hate, PEOPLE, DE...|(2800,[365,1875,2...|[7.54319349541082...|[0.75431934954108...|       0.0|\n",
            "| 10320338703|\"'\"\"If you look a...|  0.0|           0|      0|     0|     0|            0|[look, write, you...|(2800,[1,5,28,45,...|[9.02150795299091...|[0.90215079529909...|       0.0|\n",
            "|103448048387|'- I''m not a spy...|  1.0|           0|      0|     0|     0|            0|[I''m, spy, huff,...|(2800,[9,15,17,18...|[7.93639372770485...|[0.79363937277048...|       0.0|\n",
            "| 10345342079|NOT a ghost town ...|  0.0|           0|      0|     0|     0|            0|[ghost, town, wri...|(2800,[29,45,92,9...|[8.27044787566733...|[0.82704478756673...|       0.0|\n",
            "|103455056355|\"'\"\" This is not ...|  1.0|           1|      1|     0|     0|            0|[fair, block, use...|(2800,[2,3,5,6,8,...|[1.58349086326402...|[0.15834908632640...|       1.0|\n",
            "| 10369775168|'Thanks for your ...|  0.0|           0|      0|     0|     0|            0|[thank, response,...|(2800,[0,1,3,4,5,...|[9.35498057141936...|[0.93549805714193...|       0.0|\n",
            "|103809372604|important you and...|  1.0|           0|      0|     1|     0|            0|[important, famil...|(2800,[1,5,242,31...|[8.74661924324309...|[0.87466192432430...|       0.0|\n",
            "| 10392991975|SPACE AFTER PERIO...|  0.0|           0|      0|     0|     1|            0|[SPACE, period, b...|(2800,[395,690,27...|[8.27044787566733...|[0.82704478756673...|       0.0|\n",
            "|103991725422|what the heck retard|  1.0|           0|      0|     0|     0|            0|      [heck, retard]|(2800,[1706,1971]...|[4.37301005752383...|[0.43730100575238...|       1.0|\n",
            "| 10428262239|\"'\"\"I''ve added a...|  0.0|           0|      0|     0|     0|            0|[add, citation, E...|(2800,[0,8,9,11,2...|[9.21176104234028...|[0.92117610423402...|       0.0|\n",
            "|104786983816|'[User talk:Jesse...|  1.0|           0|      0|     0|     1|            0|[user, talk, Jess...|(2800,[2,5,28,30,...|[5.43061593739749...|[0.54306159373974...|       0.0|\n",
            "+------------+--------------------+-----+------------+-------+------+------+-------------+--------------------+--------------------+--------------------+--------------------+----------+\n",
            "only showing top 20 rows\n",
            "\n"
          ]
        }
      ]
    },
    {
      "cell_type": "code",
      "source": [
        "evaluator = BinaryClassificationEvaluator(labelCol=\"toxic\", rawPredictionCol=\"prediction\")\n",
        "accuracy = evaluator.evaluate(df_pred)\n",
        "\n",
        "print(\"Accuracy: %g\" % (accuracy))"
      ],
      "metadata": {
        "colab": {
          "base_uri": "https://localhost:8080/"
        },
        "id": "JNjnE-9NM5Fn",
        "outputId": "6a4b3dee-3e98-434e-c3ee-a047970b2d21"
      },
      "execution_count": null,
      "outputs": [
        {
          "output_type": "stream",
          "name": "stdout",
          "text": [
            "Accuracy: 0.678127\n"
          ]
        }
      ]
    },
    {
      "cell_type": "markdown",
      "source": [
        "# Regression Logistique"
      ],
      "metadata": {
        "id": "z9vYoRXSUCM-"
      }
    },
    {
      "cell_type": "code",
      "source": [
        "label = \"toxic\"\n",
        "lr = LogisticRegression(featuresCol='features', labelCol=label)\n",
        "lr_model = lr.fit(training_data)\n",
        "df_pred = lr_model.transform(test_data)\n",
        "df_pred.show()"
      ],
      "metadata": {
        "colab": {
          "base_uri": "https://localhost:8080/"
        },
        "id": "BiZaqz4SULL8",
        "outputId": "89552931-9446-4a0d-b717-51e3fa212ce4"
      },
      "execution_count": null,
      "outputs": [
        {
          "output_type": "stream",
          "name": "stdout",
          "text": [
            "+------------+--------------------+-----+------------+-------+------+------+-------------+--------------------+--------------------+--------------------+--------------------+----------+\n",
            "|          id|        comment_text|toxic|severe_toxic|obscene|threat|insult|identity_hate|           Nettoyage|            features|       rawPrediction|         probability|prediction|\n",
            "+------------+--------------------+-----+------------+-------+------+------+-------------+--------------------+--------------------+--------------------+--------------------+----------+\n",
            "| 10018353480|'Hey, you were ri...|  0.0|           0|      0|     0|     0|            0|[hey, right, thin...|(2800,[3,7,8,10,1...|[92.8980410026275...|           [1.0,0.0]|       0.0|\n",
            "|100311196363|user:captain-pois...|  1.0|           0|      0|     0|     0|            0|[user, captain, p...|(2800,[1,7,30,148...|[-70.537332532684...|[2.32287432060440...|       1.0|\n",
            "|101451150796|Piss off you slan...|  1.0|           0|      1|     0|     0|            0|[piss, slant, eye...|(2800,[543,1027],...|[-145.90717802786...|[4.29850773351742...|       1.0|\n",
            "|101520761507|Die in a fire.  7...|  1.0|           0|      0|     0|     0|            0|[die, fire, 76.12...|(2800,[37,431],[1...|[-31.997685559755...|[1.26935099483362...|       1.0|\n",
            "|101539538038|\"'\"\" Personal Att...|  1.0|           0|      0|     0|     0|            0|[Personal, Attack...|(2800,[9,39,110,1...|[-120.43771455195...|[4.94954363175599...|       1.0|\n",
            "| 10169610010|'For the record, ...|  0.0|           0|      0|     0|     0|            0|[record, I''m, co...|(2800,[8,11,17,19...|[0.13680342444504...|[0.53414761615908...|       0.0|\n",
            "| 10172988887| A knife for you!...|  1.0|           0|      0|     1|     0|            0|[knife, knife, da...|(2800,[34,104,132...|[-67.500833616591...|[4.83905364263908...|       1.0|\n",
            "| 10223313265|\"'\"\"Yeah, that''s...|  0.0|           0|      0|     0|     0|            0|[yeah, work., '''...|  (2800,[550],[1.0])|[-0.0096498202291...|[0.49758756366299...|       1.0|\n",
            "|102853444030|RE: Punk ass snit...|  1.0|           0|      1|     0|     1|            0|[punk, ass, snitc...|(2800,[135,189,26...|[-57.369797526758...|[1.21510415584391...|       1.0|\n",
            "|102905623506|I HATE PEOPLE BEC...|  1.0|           0|      0|     0|     0|            0|[hate, PEOPLE, DE...|(2800,[365,1875,2...|[-190.03842158344...|[2.93333832659824...|       1.0|\n",
            "| 10320338703|\"'\"\"If you look a...|  0.0|           0|      0|     0|     0|            0|[look, write, you...|(2800,[1,5,28,45,...|[-125.53176967184...|[3.03560408071173...|       1.0|\n",
            "|103448048387|'- I''m not a spy...|  1.0|           0|      0|     0|     0|            0|[I''m, spy, huff,...|(2800,[9,15,17,18...|[-150.33999875578...|[5.10702673091876...|       1.0|\n",
            "| 10345342079|NOT a ghost town ...|  0.0|           0|      0|     0|     0|            0|[ghost, town, wri...|(2800,[29,45,92,9...|[369.550751121927...|           [1.0,0.0]|       0.0|\n",
            "|103455056355|\"'\"\" This is not ...|  1.0|           1|      1|     0|     0|            0|[fair, block, use...|(2800,[2,3,5,6,8,...|[-1234.4675613098...|           [0.0,1.0]|       1.0|\n",
            "| 10369775168|'Thanks for your ...|  0.0|           0|      0|     0|     0|            0|[thank, response,...|(2800,[0,1,3,4,5,...|[504.750024548894...|           [1.0,0.0]|       0.0|\n",
            "|103809372604|important you and...|  1.0|           0|      0|     1|     0|            0|[important, famil...|(2800,[1,5,242,31...|[-106.33405233502...|[6.60249122201788...|       1.0|\n",
            "| 10392991975|SPACE AFTER PERIO...|  0.0|           0|      0|     0|     1|            0|[SPACE, period, b...|(2800,[395,690,27...|[-201.10516818012...|[4.58284508723784...|       1.0|\n",
            "|103991725422|what the heck retard|  1.0|           0|      0|     0|     0|            0|      [heck, retard]|(2800,[1706,1971]...|[-55.378113216668...|[8.90412015325146...|       1.0|\n",
            "| 10428262239|\"'\"\"I''ve added a...|  0.0|           0|      0|     0|     0|            0|[add, citation, E...|(2800,[0,8,9,11,2...|[404.101969029485...|           [1.0,0.0]|       0.0|\n",
            "|104786983816|'[User talk:Jesse...|  1.0|           0|      0|     0|     1|            0|[user, talk, Jess...|(2800,[2,5,28,30,...|[-69.684676861493...|[5.44915756404383...|       1.0|\n",
            "+------------+--------------------+-----+------------+-------+------+------+-------------+--------------------+--------------------+--------------------+--------------------+----------+\n",
            "only showing top 20 rows\n",
            "\n"
          ]
        }
      ]
    },
    {
      "cell_type": "code",
      "source": [
        "evaluator = BinaryClassificationEvaluator(labelCol=\"toxic\", rawPredictionCol=\"prediction\")\n",
        "accuracy = evaluator.evaluate(df_pred)\n",
        "\n",
        "print(\"Accuracy: %g\" % (accuracy))"
      ],
      "metadata": {
        "colab": {
          "base_uri": "https://localhost:8080/"
        },
        "id": "eSEKxIqXUjfw",
        "outputId": "a2e5b425-5452-40a4-efb1-4ae5d0f9eeb3"
      },
      "execution_count": null,
      "outputs": [
        {
          "output_type": "stream",
          "name": "stdout",
          "text": [
            "Accuracy: 0.788502\n"
          ]
        }
      ]
    }
  ]
}